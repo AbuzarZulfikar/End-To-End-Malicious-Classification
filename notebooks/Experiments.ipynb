{
 "cells": [
  {
   "cell_type": "code",
   "execution_count": 2,
   "metadata": {},
   "outputs": [],
   "source": [
    "import pandas as pd\n",
    "from pathlib import Path\n"
   ]
  },
  {
   "cell_type": "code",
   "execution_count": 3,
   "metadata": {},
   "outputs": [],
   "source": [
    "path = Path('/media/aqib/Software/My Boys Team Projects/project week 1/End-To-End-Malicious-Classification/data/processed')\n"
   ]
  },
  {
   "cell_type": "code",
   "execution_count": 14,
   "metadata": {},
   "outputs": [],
   "source": [
    "X_train = pd.read_csv(path/'X_train.csv')\n",
    "X_test = pd.read_csv(path/'X_test.csv')\n",
    "y_train = pd.read_csv(path/'y_train.csv')\n",
    "y_test = pd.read_csv(path/'y_test.csv')"
   ]
  },
  {
   "cell_type": "code",
   "execution_count": 8,
   "metadata": {},
   "outputs": [
    {
     "data": {
      "text/plain": [
       "label   \n",
       "benign      19402\n",
       "phishing    10161\n",
       "malware      7119\n",
       "spam         3445\n",
       "Name: count, dtype: int64"
      ]
     },
     "execution_count": 8,
     "metadata": {},
     "output_type": "execute_result"
    }
   ],
   "source": [
    "# y_train.value_counts()"
   ]
  },
  {
   "cell_type": "code",
   "execution_count": 13,
   "metadata": {},
   "outputs": [
    {
     "data": {
      "text/plain": [
       "Index(['sld', 'oc_8', 'Emails', 'hex_32', 'Domain_Name', 'puny_coded',\n",
       "       'Page_Rank', 'Alexa_Rank', '3gram', 'distance_from_bad_words',\n",
       "       'Country', 'hex_8', 'oc_32', 'len', 'typos', 'Registrar', 'dec_8',\n",
       "       '2gram', 'State', '1gram', 'obfuscate_at_sign', 'entropy',\n",
       "       'numeric_percentage', 'Registrant_Name', 'subdomain',\n",
       "       'char_distribution', 'shortened', 'longest_word', 'Name_Server_Count',\n",
       "       'dec_32', 'Creation_Date_Time', 'Organization', 'tld', 'Unnamed: 34'],\n",
       "      dtype='object')"
      ]
     },
     "execution_count": 13,
     "metadata": {},
     "output_type": "execute_result"
    }
   ],
   "source": [
    "X_train.columns"
   ]
  },
  {
   "cell_type": "code",
   "execution_count": null,
   "metadata": {},
   "outputs": [],
   "source": []
  }
 ],
 "metadata": {
  "kernelspec": {
   "display_name": "base",
   "language": "python",
   "name": "python3"
  },
  "language_info": {
   "codemirror_mode": {
    "name": "ipython",
    "version": 3
   },
   "file_extension": ".py",
   "mimetype": "text/x-python",
   "name": "python",
   "nbconvert_exporter": "python",
   "pygments_lexer": "ipython3",
   "version": "3.11.5"
  }
 },
 "nbformat": 4,
 "nbformat_minor": 2
}
