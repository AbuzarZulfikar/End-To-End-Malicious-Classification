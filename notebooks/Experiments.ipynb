{
 "cells": [
  {
   "cell_type": "code",
   "execution_count": 1,
   "metadata": {},
   "outputs": [],
   "source": [
    "import pandas as pd\n",
    "from pathlib import Path\n"
   ]
  },
  {
   "cell_type": "code",
   "execution_count": 2,
   "metadata": {},
   "outputs": [],
   "source": [
    "path = Path('/media/aqib/Software/My Boys Team Projects/project week 1/End-To-End-Malicious-Classification/data/processed_data')\n"
   ]
  },
  {
   "cell_type": "code",
   "execution_count": 3,
   "metadata": {},
   "outputs": [],
   "source": [
    "X_train = pd.read_csv(path/'X_train.csv')\n",
    "X_test = pd.read_csv(path/'X_test.csv')\n",
    "y_train = pd.read_csv(path/'y_train.csv')\n",
    "y_test = pd.read_csv(path/'y_test.csv')"
   ]
  },
  {
   "cell_type": "code",
   "execution_count": 4,
   "metadata": {},
   "outputs": [],
   "source": [
    "# y_train.value_counts()"
   ]
  },
  {
   "cell_type": "code",
   "execution_count": 5,
   "metadata": {},
   "outputs": [
    {
     "data": {
      "text/plain": [
       "Index(['Domain_Age', 'sld', 'oc_8', 'Emails', 'hex_32', 'Domain_Name',\n",
       "       'puny_coded', 'Page_Rank', 'Alexa_Rank', '3gram',\n",
       "       'distance_from_bad_words', 'Country', 'hex_8', 'oc_32', 'len', 'typos',\n",
       "       'Registrar', 'dec_8', '2gram', 'State', '1gram', 'obfuscate_at_sign',\n",
       "       'entropy', 'numeric_percentage', 'Registrant_Name', 'subdomain',\n",
       "       'char_distribution', 'shortened', 'longest_word', 'Name_Server_Count',\n",
       "       'dec_32', 'Creation_Date_Time', 'Organization', 'tld', 'Unnamed: 34'],\n",
       "      dtype='object')"
      ]
     },
     "execution_count": 5,
     "metadata": {},
     "output_type": "execute_result"
    }
   ],
   "source": [
    "X_train.columns"
   ]
  },
  {
   "cell_type": "code",
   "execution_count": 6,
   "metadata": {},
   "outputs": [
    {
     "data": {
      "text/plain": [
       "Domain_Age                  2384\n",
       "sld                           15\n",
       "oc_8                           0\n",
       "Emails                     10061\n",
       "hex_32                         0\n",
       "Domain_Name                 4939\n",
       "puny_coded                     0\n",
       "Page_Rank                  15531\n",
       "Alexa_Rank                  2384\n",
       "3gram                          0\n",
       "distance_from_bad_words        0\n",
       "Country                    13663\n",
       "hex_8                          0\n",
       "oc_32                          0\n",
       "len                            0\n",
       "typos                          0\n",
       "Registrar                   8060\n",
       "dec_8                          0\n",
       "2gram                          0\n",
       "State                      16208\n",
       "1gram                          0\n",
       "obfuscate_at_sign              0\n",
       "entropy                        0\n",
       "numeric_percentage             0\n",
       "Registrant_Name            39044\n",
       "subdomain                      7\n",
       "char_distribution              0\n",
       "shortened                    155\n",
       "longest_word                  19\n",
       "Name_Server_Count           2384\n",
       "dec_32                         0\n",
       "Creation_Date_Time          7653\n",
       "Organization               17480\n",
       "tld                            7\n",
       "Unnamed: 34                40120\n",
       "dtype: int64"
      ]
     },
     "execution_count": 6,
     "metadata": {},
     "output_type": "execute_result"
    }
   ],
   "source": [
    "X_train.isnull().sum()"
   ]
  },
  {
   "cell_type": "code",
   "execution_count": 7,
   "metadata": {},
   "outputs": [
    {
     "data": {
      "text/plain": [
       "(40127, 35)"
      ]
     },
     "execution_count": 7,
     "metadata": {},
     "output_type": "execute_result"
    }
   ],
   "source": [
    "X_train.shape "
   ]
  },
  {
   "cell_type": "code",
   "execution_count": 8,
   "metadata": {},
   "outputs": [
    {
     "name": "stderr",
     "output_type": "stream",
     "text": [
      "/tmp/ipykernel_98209/1332679909.py:1: DtypeWarning: Columns (22,28,30,35) have mixed types. Specify dtype option on import or set low_memory=False.\n",
      "  data = pd.read_csv(path/'dataset.csv')\n"
     ]
    }
   ],
   "source": [
    "data = pd.read_csv(path/'dataset.csv')"
   ]
  },
  {
   "cell_type": "code",
   "execution_count": 9,
   "metadata": {},
   "outputs": [
    {
     "data": {
      "text/plain": [
       "(50159, 37)"
      ]
     },
     "execution_count": 9,
     "metadata": {},
     "output_type": "execute_result"
    }
   ],
   "source": [
    "data.shape"
   ]
  },
  {
   "cell_type": "code",
   "execution_count": 10,
   "metadata": {},
   "outputs": [
    {
     "data": {
      "text/plain": [
       "Unnamed: 0                  0.000000\n",
       "Domain_Age                  5.933133\n",
       "sld                         0.033892\n",
       "oc_8                        0.000000\n",
       "Emails                     25.070277\n",
       "hex_32                      0.000000\n",
       "Domain_Name                12.318826\n",
       "puny_coded                  0.000000\n",
       "Page_Rank                  38.944158\n",
       "Alexa_Rank                  5.933133\n",
       "3gram                       0.000000\n",
       "distance_from_bad_words     0.000000\n",
       "Country                    34.163361\n",
       "hex_8                       0.000000\n",
       "oc_32                       0.000000\n",
       "len                         0.000000\n",
       "typos                       0.000000\n",
       "Registrar                  20.104069\n",
       "dec_8                       0.000000\n",
       "2gram                       0.000000\n",
       "State                      40.561016\n",
       "1gram                       0.000000\n",
       "obfuscate_at_sign           0.000000\n",
       "entropy                     0.000000\n",
       "numeric_percentage          0.000000\n",
       "Registrant_Name            97.270679\n",
       "subdomain                   0.017943\n",
       "char_distribution           0.000000\n",
       "shortened                   0.378795\n",
       "longest_word                0.041867\n",
       "Name_Server_Count           5.933133\n",
       "dec_32                      0.000000\n",
       "Creation_Date_Time         19.079328\n",
       "Organization               43.509639\n",
       "tld                         0.017943\n",
       "Unnamed: 34                99.982057\n",
       "label                       0.000000\n",
       "dtype: float64"
      ]
     },
     "execution_count": 10,
     "metadata": {},
     "output_type": "execute_result"
    }
   ],
   "source": [
    "(data.isnull().sum() / len(data)) * 100"
   ]
  },
  {
   "cell_type": "code",
   "execution_count": 11,
   "metadata": {},
   "outputs": [
    {
     "name": "stdout",
     "output_type": "stream",
     "text": [
      "<class 'pandas.core.frame.DataFrame'>\n",
      "RangeIndex: 50159 entries, 0 to 50158\n",
      "Data columns (total 37 columns):\n",
      " #   Column                   Non-Null Count  Dtype  \n",
      "---  ------                   --------------  -----  \n",
      " 0   Unnamed: 0               50159 non-null  int64  \n",
      " 1   Domain_Age               47183 non-null  object \n",
      " 2   sld                      50142 non-null  object \n",
      " 3   oc_8                     50159 non-null  int64  \n",
      " 4   Emails                   37584 non-null  object \n",
      " 5   hex_32                   50159 non-null  int64  \n",
      " 6   Domain_Name              43980 non-null  object \n",
      " 7   puny_coded               50159 non-null  int64  \n",
      " 8   Page_Rank                30625 non-null  float64\n",
      " 9   Alexa_Rank               47183 non-null  float64\n",
      " 10  3gram                    50159 non-null  object \n",
      " 11  distance_from_bad_words  50159 non-null  object \n",
      " 12  Country                  33023 non-null  object \n",
      " 13  hex_8                    50159 non-null  int64  \n",
      " 14  oc_32                    50159 non-null  int64  \n",
      " 15  len                      50159 non-null  int64  \n",
      " 16  typos                    50159 non-null  object \n",
      " 17  Registrar                40075 non-null  object \n",
      " 18  dec_8                    50159 non-null  int64  \n",
      " 19  2gram                    50159 non-null  object \n",
      " 20  State                    29814 non-null  object \n",
      " 21  1gram                    50159 non-null  object \n",
      " 22  obfuscate_at_sign        50159 non-null  object \n",
      " 23  entropy                  50159 non-null  float64\n",
      " 24  numeric_percentage       50159 non-null  float64\n",
      " 25  Registrant_Name          1369 non-null   object \n",
      " 26  subdomain                50150 non-null  float64\n",
      " 27  char_distribution        50159 non-null  object \n",
      " 28  shortened                49969 non-null  object \n",
      " 29  longest_word             50138 non-null  object \n",
      " 30  Name_Server_Count        47183 non-null  object \n",
      " 31  dec_32                   50159 non-null  int64  \n",
      " 32  Creation_Date_Time       40589 non-null  object \n",
      " 33  Organization             28335 non-null  object \n",
      " 34  tld                      50150 non-null  object \n",
      " 35  Unnamed: 34              9 non-null      object \n",
      " 36  label                    50159 non-null  object \n",
      "dtypes: float64(5), int64(9), object(23)\n",
      "memory usage: 14.2+ MB\n"
     ]
    }
   ],
   "source": [
    "data.info()"
   ]
  },
  {
   "cell_type": "code",
   "execution_count": 21,
   "metadata": {},
   "outputs": [],
   "source": [
    "from sklearn.preprocessing import LabelEncoder\n"
   ]
  },
  {
   "cell_type": "code",
   "execution_count": 16,
   "metadata": {},
   "outputs": [],
   "source": [
    "def separate_numerical_categorical_cols(data):\n",
    "    numerical_cols = data.select_dtypes(include=['number']).columns.tolist()\n",
    "    categorical_cols = data.select_dtypes(exclude=['number']).columns.tolist()\n",
    "    return numerical_cols, categorical_cols\n",
    "\n",
    "\n"
   ]
  },
  {
   "cell_type": "code",
   "execution_count": 28,
   "metadata": {},
   "outputs": [],
   "source": [
    "def impute_missing_values_with_simple_imputer(data, categorical_cols, numerical_cols):\n",
    "    # Impute missing values for numerical columns using mean strategy\n",
    "    numerical_imputer = SimpleImputer(strategy='mean')\n",
    "    data[numerical_cols] = numerical_imputer.fit_transform(data[numerical_cols])\n",
    "    \n",
    "    # Impute missing values for categorical columns using most frequent strategy\n",
    "    categorical_imputer = SimpleImputer(strategy='most_frequent')\n",
    "    data[categorical_cols] = categorical_imputer.fit_transform(data[categorical_cols])\n",
    "    \n",
    "    return data"
   ]
  },
  {
   "cell_type": "code",
   "execution_count": 29,
   "metadata": {},
   "outputs": [],
   "source": [
    "from sklearn.impute import KNNImputer,SimpleImputer\n"
   ]
  },
  {
   "cell_type": "code",
   "execution_count": 30,
   "metadata": {},
   "outputs": [],
   "source": [
    "# more_than_5_percent_df, less_than_or_equal_to_5_percent_df = separate_columns(data)\n",
    "numerical_cols, categorical_cols =  separate_numerical_categorical_cols(data)\n",
    "    # print(f\"Numerical columns{numerical_cols} \\n Categorical columns{categorical_cols}\")\n",
    "# imputed_data = impute_missing_values_with_knn(data,categorical_cols,numerical_cols)\n",
    "imputed_data = impute_missing_values_with_simple_imputer(data, categorical_cols, numerical_cols)\n"
   ]
  },
  {
   "cell_type": "code",
   "execution_count": 33,
   "metadata": {},
   "outputs": [
    {
     "data": {
      "text/plain": [
       "(50159, 37)"
      ]
     },
     "execution_count": 33,
     "metadata": {},
     "output_type": "execute_result"
    }
   ],
   "source": [
    "imputed_data.shape"
   ]
  },
  {
   "cell_type": "code",
   "execution_count": 1,
   "metadata": {},
   "outputs": [],
   "source": [
    "import pandas as pd"
   ]
  },
  {
   "cell_type": "code",
   "execution_count": 2,
   "metadata": {},
   "outputs": [],
   "source": [
    "df = pd.read_excel('/media/aqib/Software/My Boys Team Projects/project week 1/End-To-End-Malicious-Classification/data/processed_data/cleaned_data.xlsx')"
   ]
  },
  {
   "cell_type": "code",
   "execution_count": 4,
   "metadata": {},
   "outputs": [
    {
     "name": "stdout",
     "output_type": "stream",
     "text": [
      "<class 'pandas.core.frame.DataFrame'>\n",
      "RangeIndex: 50159 entries, 0 to 50158\n",
      "Data columns (total 35 columns):\n",
      " #   Column                   Non-Null Count  Dtype  \n",
      "---  ------                   --------------  -----  \n",
      " 0   Domain_Age               50159 non-null  object \n",
      " 1   sld                      50159 non-null  object \n",
      " 2   oc_8                     50159 non-null  int64  \n",
      " 3   Emails                   50159 non-null  object \n",
      " 4   hex_32                   50159 non-null  int64  \n",
      " 5   Domain_Name              50159 non-null  object \n",
      " 6   puny_coded               50159 non-null  int64  \n",
      " 7   Page_Rank                50159 non-null  int64  \n",
      " 8   Alexa_Rank               50159 non-null  float64\n",
      " 9   3gram                    50159 non-null  object \n",
      " 10  distance_from_bad_words  50159 non-null  object \n",
      " 11  Country                  50159 non-null  object \n",
      " 12  hex_8                    50159 non-null  int64  \n",
      " 13  oc_32                    50159 non-null  int64  \n",
      " 14  len                      50159 non-null  int64  \n",
      " 15  typos                    50159 non-null  object \n",
      " 16  Registrar                50159 non-null  object \n",
      " 17  dec_8                    50159 non-null  int64  \n",
      " 18  2gram                    50159 non-null  object \n",
      " 19  State                    50159 non-null  object \n",
      " 20  1gram                    50159 non-null  object \n",
      " 21  obfuscate_at_sign        50159 non-null  object \n",
      " 22  entropy                  50159 non-null  float64\n",
      " 23  numeric_percentage       50159 non-null  float64\n",
      " 24  Registrant_Name          50159 non-null  object \n",
      " 25  subdomain                50159 non-null  float64\n",
      " 26  char_distribution        50159 non-null  object \n",
      " 27  shortened                50159 non-null  object \n",
      " 28  longest_word             50159 non-null  object \n",
      " 29  Name_Server_Count        50159 non-null  object \n",
      " 30  dec_32                   50159 non-null  int64  \n",
      " 31  Creation_Date_Time       50159 non-null  object \n",
      " 32  Organization             50159 non-null  object \n",
      " 33  tld                      50159 non-null  object \n",
      " 34  label                    50159 non-null  object \n",
      "dtypes: float64(4), int64(9), object(22)\n",
      "memory usage: 13.4+ MB\n"
     ]
    }
   ],
   "source": [
    "df.info()"
   ]
  },
  {
   "cell_type": "code",
   "execution_count": 5,
   "metadata": {},
   "outputs": [],
   "source": [
    "def separate_cols_by_type(data):\n",
    "    int_cols = []\n",
    "    obj_cols = []\n",
    "\n",
    "    for col in data.columns:\n",
    "        if data[col].dtype == 'int64' or data[col].dtype == 'float64':\n",
    "            int_cols.append(col)\n",
    "        elif data[col].dtype == 'object':\n",
    "            obj_cols.append(col)\n",
    "\n",
    "    return int_cols, obj_cols\n"
   ]
  },
  {
   "cell_type": "code",
   "execution_count": 6,
   "metadata": {},
   "outputs": [],
   "source": [
    "int_cols,obj_cols = separate_cols_by_type(df)"
   ]
  },
  {
   "cell_type": "code",
   "execution_count": 7,
   "metadata": {},
   "outputs": [
    {
     "data": {
      "text/plain": [
       "['oc_8',\n",
       " 'hex_32',\n",
       " 'puny_coded',\n",
       " 'Page_Rank',\n",
       " 'Alexa_Rank',\n",
       " 'hex_8',\n",
       " 'oc_32',\n",
       " 'len',\n",
       " 'dec_8',\n",
       " 'entropy',\n",
       " 'numeric_percentage',\n",
       " 'subdomain',\n",
       " 'dec_32']"
      ]
     },
     "execution_count": 7,
     "metadata": {},
     "output_type": "execute_result"
    }
   ],
   "source": [
    "int_cols"
   ]
  },
  {
   "cell_type": "code",
   "execution_count": 8,
   "metadata": {},
   "outputs": [
    {
     "data": {
      "text/plain": [
       "['Domain_Age',\n",
       " 'sld',\n",
       " 'Emails',\n",
       " 'Domain_Name',\n",
       " '3gram',\n",
       " 'distance_from_bad_words',\n",
       " 'Country',\n",
       " 'typos',\n",
       " 'Registrar',\n",
       " '2gram',\n",
       " 'State',\n",
       " '1gram',\n",
       " 'obfuscate_at_sign',\n",
       " 'Registrant_Name',\n",
       " 'char_distribution',\n",
       " 'shortened',\n",
       " 'longest_word',\n",
       " 'Name_Server_Count',\n",
       " 'Creation_Date_Time',\n",
       " 'Organization',\n",
       " 'tld',\n",
       " 'label']"
      ]
     },
     "execution_count": 8,
     "metadata": {},
     "output_type": "execute_result"
    }
   ],
   "source": [
    "obj_cols"
   ]
  },
  {
   "cell_type": "code",
   "execution_count": 9,
   "metadata": {},
   "outputs": [
    {
     "data": {
      "text/html": [
       "<div>\n",
       "<style scoped>\n",
       "    .dataframe tbody tr th:only-of-type {\n",
       "        vertical-align: middle;\n",
       "    }\n",
       "\n",
       "    .dataframe tbody tr th {\n",
       "        vertical-align: top;\n",
       "    }\n",
       "\n",
       "    .dataframe thead th {\n",
       "        text-align: right;\n",
       "    }\n",
       "</style>\n",
       "<table border=\"1\" class=\"dataframe\">\n",
       "  <thead>\n",
       "    <tr style=\"text-align: right;\">\n",
       "      <th></th>\n",
       "      <th>Domain_Age</th>\n",
       "      <th>sld</th>\n",
       "      <th>Emails</th>\n",
       "      <th>Domain_Name</th>\n",
       "      <th>3gram</th>\n",
       "      <th>distance_from_bad_words</th>\n",
       "      <th>Country</th>\n",
       "      <th>typos</th>\n",
       "      <th>Registrar</th>\n",
       "      <th>2gram</th>\n",
       "    </tr>\n",
       "  </thead>\n",
       "  <tbody>\n",
       "    <tr>\n",
       "      <th>0</th>\n",
       "      <td>136 days, 2:56:04.883605</td>\n",
       "      <td>900259</td>\n",
       "      <td>['abuse@gmo.jp', 'proxy@whoisprotectservice.com']</td>\n",
       "      <td>['0900259.COM', '0900259.com']</td>\n",
       "      <td>['090', '900', '002', '025', '259']</td>\n",
       "      <td>{'2': 5.740530303030303, '0': 5.74431818181818...</td>\n",
       "      <td>JP</td>\n",
       "      <td>[('qq.com', 86), ('vk.com', 86)]</td>\n",
       "      <td>GMO INTERNET, INC.</td>\n",
       "      <td>['09', '90', '00', '02', '25', '59']</td>\n",
       "    </tr>\n",
       "    <tr>\n",
       "      <th>1</th>\n",
       "      <td>136 days, 2:56:19.517778</td>\n",
       "      <td>koitera</td>\n",
       "      <td>['abuse@gmo.jp', 'proxy@whoisprotectservice.com']</td>\n",
       "      <td>['KOITERA.NET', 'koitera.net']</td>\n",
       "      <td>['koi', 'oit', 'ite', 'ter', 'era']</td>\n",
       "      <td>{'ko': 5.331439393939394, 'it': 5.178030303030...</td>\n",
       "      <td>JP</td>\n",
       "      <td>[('php.net', 86), ('a8.net', 86)]</td>\n",
       "      <td>GMO INTERNET, INC.</td>\n",
       "      <td>['ko', 'oi', 'it', 'te', 'er', 'ra']</td>\n",
       "    </tr>\n",
       "  </tbody>\n",
       "</table>\n",
       "</div>"
      ],
      "text/plain": [
       "                 Domain_Age      sld  \\\n",
       "0  136 days, 2:56:04.883605   900259   \n",
       "1  136 days, 2:56:19.517778  koitera   \n",
       "\n",
       "                                              Emails  \\\n",
       "0  ['abuse@gmo.jp', 'proxy@whoisprotectservice.com']   \n",
       "1  ['abuse@gmo.jp', 'proxy@whoisprotectservice.com']   \n",
       "\n",
       "                      Domain_Name                                3gram  \\\n",
       "0  ['0900259.COM', '0900259.com']  ['090', '900', '002', '025', '259']   \n",
       "1  ['KOITERA.NET', 'koitera.net']  ['koi', 'oit', 'ite', 'ter', 'era']   \n",
       "\n",
       "                             distance_from_bad_words Country  \\\n",
       "0  {'2': 5.740530303030303, '0': 5.74431818181818...      JP   \n",
       "1  {'ko': 5.331439393939394, 'it': 5.178030303030...      JP   \n",
       "\n",
       "                               typos           Registrar  \\\n",
       "0   [('qq.com', 86), ('vk.com', 86)]  GMO INTERNET, INC.   \n",
       "1  [('php.net', 86), ('a8.net', 86)]  GMO INTERNET, INC.   \n",
       "\n",
       "                                  2gram  \n",
       "0  ['09', '90', '00', '02', '25', '59']  \n",
       "1  ['ko', 'oi', 'it', 'te', 'er', 'ra']  "
      ]
     },
     "execution_count": 9,
     "metadata": {},
     "output_type": "execute_result"
    }
   ],
   "source": [
    "df[obj_cols].iloc[:,:10].head(2)"
   ]
  },
  {
   "cell_type": "code",
   "execution_count": 10,
   "metadata": {},
   "outputs": [
    {
     "data": {
      "text/html": [
       "<div>\n",
       "<style scoped>\n",
       "    .dataframe tbody tr th:only-of-type {\n",
       "        vertical-align: middle;\n",
       "    }\n",
       "\n",
       "    .dataframe tbody tr th {\n",
       "        vertical-align: top;\n",
       "    }\n",
       "\n",
       "    .dataframe thead th {\n",
       "        text-align: right;\n",
       "    }\n",
       "</style>\n",
       "<table border=\"1\" class=\"dataframe\">\n",
       "  <thead>\n",
       "    <tr style=\"text-align: right;\">\n",
       "      <th></th>\n",
       "      <th>State</th>\n",
       "      <th>1gram</th>\n",
       "      <th>obfuscate_at_sign</th>\n",
       "      <th>Registrant_Name</th>\n",
       "      <th>char_distribution</th>\n",
       "      <th>shortened</th>\n",
       "      <th>longest_word</th>\n",
       "      <th>Name_Server_Count</th>\n",
       "      <th>Creation_Date_Time</th>\n",
       "      <th>Organization</th>\n",
       "      <th>tld</th>\n",
       "      <th>label</th>\n",
       "    </tr>\n",
       "  </thead>\n",
       "  <tbody>\n",
       "    <tr>\n",
       "      <th>0</th>\n",
       "      <td>Tokyo</td>\n",
       "      <td>['0', '9', '0', '0', '2', '5', '9']</td>\n",
       "      <td>0</td>\n",
       "      <td>REDACTED FOR PRIVACY</td>\n",
       "      <td>defaultdict(&lt;class 'int'&gt;, {'2': 1, '9': 2, '0...</td>\n",
       "      <td>-1</td>\n",
       "      <td>9</td>\n",
       "      <td>4</td>\n",
       "      <td>2019-06-11 12:32:01</td>\n",
       "      <td>Whois Privacy Protection Service by onamae.com</td>\n",
       "      <td>com</td>\n",
       "      <td>spam</td>\n",
       "    </tr>\n",
       "    <tr>\n",
       "      <th>1</th>\n",
       "      <td>Tokyo</td>\n",
       "      <td>['k', 'o', 'i', 't', 'e', 'r', 'a']</td>\n",
       "      <td>0</td>\n",
       "      <td>REDACTED FOR PRIVACY</td>\n",
       "      <td>defaultdict(&lt;class 'int'&gt;, {'k': 1, 'a': 1, 'o...</td>\n",
       "      <td>-1</td>\n",
       "      <td>era</td>\n",
       "      <td>8</td>\n",
       "      <td>2019-06-11 12:31:48</td>\n",
       "      <td>Whois Privacy Protection Service by onamae.com</td>\n",
       "      <td>net</td>\n",
       "      <td>spam</td>\n",
       "    </tr>\n",
       "  </tbody>\n",
       "</table>\n",
       "</div>"
      ],
      "text/plain": [
       "   State                                1gram obfuscate_at_sign  \\\n",
       "0  Tokyo  ['0', '9', '0', '0', '2', '5', '9']                 0   \n",
       "1  Tokyo  ['k', 'o', 'i', 't', 'e', 'r', 'a']                 0   \n",
       "\n",
       "        Registrant_Name                                  char_distribution  \\\n",
       "0  REDACTED FOR PRIVACY  defaultdict(<class 'int'>, {'2': 1, '9': 2, '0...   \n",
       "1  REDACTED FOR PRIVACY  defaultdict(<class 'int'>, {'k': 1, 'a': 1, 'o...   \n",
       "\n",
       "  shortened longest_word Name_Server_Count   Creation_Date_Time  \\\n",
       "0        -1            9                 4  2019-06-11 12:32:01   \n",
       "1        -1          era                 8  2019-06-11 12:31:48   \n",
       "\n",
       "                                     Organization  tld label  \n",
       "0  Whois Privacy Protection Service by onamae.com  com  spam  \n",
       "1  Whois Privacy Protection Service by onamae.com  net  spam  "
      ]
     },
     "execution_count": 10,
     "metadata": {},
     "output_type": "execute_result"
    }
   ],
   "source": [
    "df[obj_cols].iloc[:,10:].head(2)"
   ]
  },
  {
   "cell_type": "code",
   "execution_count": 11,
   "metadata": {},
   "outputs": [
    {
     "data": {
      "text/plain": [
       "Index(['Domain_Age', 'sld', 'oc_8', 'Emails', 'hex_32', 'Domain_Name',\n",
       "       'puny_coded', 'Page_Rank', 'Alexa_Rank', '3gram',\n",
       "       'distance_from_bad_words', 'Country', 'hex_8', 'oc_32', 'len', 'typos',\n",
       "       'Registrar', 'dec_8', '2gram', 'State', '1gram', 'obfuscate_at_sign',\n",
       "       'entropy', 'numeric_percentage', 'Registrant_Name', 'subdomain',\n",
       "       'char_distribution', 'shortened', 'longest_word', 'Name_Server_Count',\n",
       "       'dec_32', 'Creation_Date_Time', 'Organization', 'tld', 'label'],\n",
       "      dtype='object')"
      ]
     },
     "execution_count": 11,
     "metadata": {},
     "output_type": "execute_result"
    }
   ],
   "source": [
    "df.columns"
   ]
  },
  {
   "cell_type": "code",
   "execution_count": null,
   "metadata": {},
   "outputs": [],
   "source": []
  }
 ],
 "metadata": {
  "kernelspec": {
   "display_name": "base",
   "language": "python",
   "name": "python3"
  },
  "language_info": {
   "codemirror_mode": {
    "name": "ipython",
    "version": 3
   },
   "file_extension": ".py",
   "mimetype": "text/x-python",
   "name": "python",
   "nbconvert_exporter": "python",
   "pygments_lexer": "ipython3",
   "version": "3.11.5"
  }
 },
 "nbformat": 4,
 "nbformat_minor": 2
}
