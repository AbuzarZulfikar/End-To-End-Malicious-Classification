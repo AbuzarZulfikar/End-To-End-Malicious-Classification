{
 "cells": [
  {
   "cell_type": "code",
   "execution_count": 1,
   "metadata": {},
   "outputs": [],
   "source": [
    "import pandas as pd\n",
    "from pathlib import Path\n"
   ]
  },
  {
   "cell_type": "code",
   "execution_count": 4,
   "metadata": {},
   "outputs": [],
   "source": [
    "path = Path('/media/aqib/Software/My Boys Team Projects/project week 1/End-To-End-Malicious-Classification/data/processed_data')\n"
   ]
  },
  {
   "cell_type": "code",
   "execution_count": 6,
   "metadata": {},
   "outputs": [],
   "source": [
    "X_train = pd.read_csv(path/'X_train.csv')\n",
    "X_test = pd.read_csv(path/'X_test.csv')\n",
    "y_train = pd.read_csv(path/'y_train.csv')\n",
    "y_test = pd.read_csv(path/'y_test.csv')"
   ]
  },
  {
   "cell_type": "code",
   "execution_count": 7,
   "metadata": {},
   "outputs": [],
   "source": [
    "# y_train.value_counts()"
   ]
  },
  {
   "cell_type": "code",
   "execution_count": 8,
   "metadata": {},
   "outputs": [
    {
     "data": {
      "text/plain": [
       "Index(['Domain_Age', 'sld', 'oc_8', 'Emails', 'hex_32', 'Domain_Name',\n",
       "       'puny_coded', 'Page_Rank', 'Alexa_Rank', '3gram',\n",
       "       'distance_from_bad_words', 'Country', 'hex_8', 'oc_32', 'len', 'typos',\n",
       "       'Registrar', 'dec_8', '2gram', 'State', '1gram', 'obfuscate_at_sign',\n",
       "       'entropy', 'numeric_percentage', 'Registrant_Name', 'subdomain',\n",
       "       'char_distribution', 'shortened', 'longest_word', 'Name_Server_Count',\n",
       "       'dec_32', 'Creation_Date_Time', 'Organization', 'tld', 'Unnamed: 34'],\n",
       "      dtype='object')"
      ]
     },
     "execution_count": 8,
     "metadata": {},
     "output_type": "execute_result"
    }
   ],
   "source": [
    "X_train.columns"
   ]
  },
  {
   "cell_type": "code",
   "execution_count": 9,
   "metadata": {},
   "outputs": [
    {
     "data": {
      "text/plain": [
       "Domain_Age                  2384\n",
       "sld                           15\n",
       "oc_8                           0\n",
       "Emails                     10061\n",
       "hex_32                         0\n",
       "Domain_Name                 4939\n",
       "puny_coded                     0\n",
       "Page_Rank                  15531\n",
       "Alexa_Rank                  2384\n",
       "3gram                          0\n",
       "distance_from_bad_words        0\n",
       "Country                    13663\n",
       "hex_8                          0\n",
       "oc_32                          0\n",
       "len                            0\n",
       "typos                          0\n",
       "Registrar                   8060\n",
       "dec_8                          0\n",
       "2gram                          0\n",
       "State                      16208\n",
       "1gram                          0\n",
       "obfuscate_at_sign              0\n",
       "entropy                        0\n",
       "numeric_percentage             0\n",
       "Registrant_Name            39044\n",
       "subdomain                      7\n",
       "char_distribution              0\n",
       "shortened                    155\n",
       "longest_word                  19\n",
       "Name_Server_Count           2384\n",
       "dec_32                         0\n",
       "Creation_Date_Time          7653\n",
       "Organization               17480\n",
       "tld                            7\n",
       "Unnamed: 34                40120\n",
       "dtype: int64"
      ]
     },
     "execution_count": 9,
     "metadata": {},
     "output_type": "execute_result"
    }
   ],
   "source": [
    "X_train.isnull().sum()"
   ]
  },
  {
   "cell_type": "code",
   "execution_count": 10,
   "metadata": {},
   "outputs": [
    {
     "data": {
      "text/plain": [
       "(40127, 35)"
      ]
     },
     "execution_count": 10,
     "metadata": {},
     "output_type": "execute_result"
    }
   ],
   "source": [
    "X_train.shape "
   ]
  },
  {
   "cell_type": "code",
   "execution_count": null,
   "metadata": {},
   "outputs": [],
   "source": []
  }
 ],
 "metadata": {
  "kernelspec": {
   "display_name": "base",
   "language": "python",
   "name": "python3"
  },
  "language_info": {
   "codemirror_mode": {
    "name": "ipython",
    "version": 3
   },
   "file_extension": ".py",
   "mimetype": "text/x-python",
   "name": "python",
   "nbconvert_exporter": "python",
   "pygments_lexer": "ipython3",
   "version": "3.11.5"
  }
 },
 "nbformat": 4,
 "nbformat_minor": 2
}
